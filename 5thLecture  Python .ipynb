{
 "cells": [
  {
   "cell_type": "code",
   "execution_count": 1,
   "metadata": {},
   "outputs": [
    {
     "data": {
      "text/plain": [
       "365"
      ]
     },
     "execution_count": 1,
     "metadata": {},
     "output_type": "execute_result"
    }
   ],
   "source": [
    "num = 265\n",
    "num +=100\n",
    "num"
   ]
  },
  {
   "cell_type": "code",
   "execution_count": 2,
   "metadata": {},
   "outputs": [
    {
     "data": {
      "text/plain": [
       "165"
      ]
     },
     "execution_count": 2,
     "metadata": {},
     "output_type": "execute_result"
    }
   ],
   "source": [
    "num = 265\n",
    "num -=100\n",
    "num"
   ]
  },
  {
   "cell_type": "code",
   "execution_count": 5,
   "metadata": {},
   "outputs": [
    {
     "name": "stdout",
     "output_type": "stream",
     "text": [
      "my name is rahi sahab and my age is 25\n"
     ]
    }
   ],
   "source": [
    "age = 25\n",
    "name = \"rahi sahab\"\n",
    "print(\"my name is \"+ name + \" and my age is \"+ str(age))"
   ]
  },
  {
   "cell_type": "code",
   "execution_count": 9,
   "metadata": {},
   "outputs": [
    {
     "name": "stdout",
     "output_type": "stream",
     "text": [
      "enter your age please:24\n",
      "enter your name please:Awi\n",
      "my name is Awi and my age is 48\n"
     ]
    }
   ],
   "source": [
    "age = int(input(\"enter your age please:\"))\n",
    "name = input(\"enter your name please:\")\n",
    "\n",
    "print (\"my name is \" + name + \" and my age is \" + str(age+age)) "
   ]
  },
  {
   "cell_type": "code",
   "execution_count": 12,
   "metadata": {},
   "outputs": [
    {
     "name": "stdout",
     "output_type": "stream",
     "text": [
      "enter your age please:24\n",
      "enter your name please:Awi\n",
      "my name is Awi and my age is 24\n"
     ]
    }
   ],
   "source": [
    "age = int(input(\"enter your age please:\"))\n",
    "name = input(\"enter your name please:\")\n",
    "\n",
    "print (\"my name is {} and my age is {}\".format(name,age))"
   ]
  },
  {
   "cell_type": "code",
   "execution_count": 14,
   "metadata": {},
   "outputs": [
    {
     "name": "stdout",
     "output_type": "stream",
     "text": [
      "enter your age please:24\n",
      "enter your name please:Awi\n",
      "my name is Awi and my age is 24\n"
     ]
    }
   ],
   "source": [
    "age = int(input(\"enter your age please:\"))\n",
    "name = input(\"enter your name please:\")\n",
    "\n",
    "print (f\"my name is {name} and my age is {age}\")"
   ]
  },
  {
   "cell_type": "code",
   "execution_count": 22,
   "metadata": {},
   "outputs": [
    {
     "name": "stdout",
     "output_type": "stream",
     "text": [
      "Maderjaat\n"
     ]
    }
   ],
   "source": [
    "a = 250\n",
    "b = 150\n",
    "if b<a:\n",
    "    print(\"Maderjaat\")\n",
    "\n",
    "    "
   ]
  },
  {
   "cell_type": "code",
   "execution_count": 25,
   "metadata": {},
   "outputs": [
    {
     "name": "stdout",
     "output_type": "stream",
     "text": [
      "Enter Your Number24\n",
      "Even\n"
     ]
    }
   ],
   "source": [
    "number = input(\"Enter Your Number\")\n",
    "a = int(number)%2\n",
    "if a == 0:\n",
    "    print (\"Even\")\n",
    "if a != 0:\n",
    "    print (\"Odd Motherfucker\")"
   ]
  },
  {
   "cell_type": "code",
   "execution_count": 26,
   "metadata": {},
   "outputs": [
    {
     "name": "stdout",
     "output_type": "stream",
     "text": [
      "Enter Your Number25\n",
      "Odd Motherfucker\n"
     ]
    }
   ],
   "source": [
    "number = input(\"Enter Your Number\")\n",
    "a = int(number)%2\n",
    "if a == 0:\n",
    "    print (\"Even\")\n",
    "if a != 0:\n",
    "    print (\"Odd Motherfucker\")"
   ]
  },
  {
   "cell_type": "code",
   "execution_count": 27,
   "metadata": {},
   "outputs": [
    {
     "name": "stdout",
     "output_type": "stream",
     "text": [
      "Enter Your Number24\n",
      "Even\n"
     ]
    }
   ],
   "source": [
    "number = input(\"Enter Your Number\")\n",
    "a = int(number)%2\n",
    "if a == 0:\n",
    "    print (\"Even\")\n",
    "if a != 0:\n",
    "    print (\"Odd\")"
   ]
  },
  {
   "cell_type": "code",
   "execution_count": 29,
   "metadata": {},
   "outputs": [
    {
     "name": "stdout",
     "output_type": "stream",
     "text": [
      "Enter Your Number24\n",
      "Even\n"
     ]
    }
   ],
   "source": [
    "number = input(\"Enter Your Number\")\n",
    "a = int(number)%2\n",
    "if a == 0:\n",
    "    print (\"Even\")\n",
    "else:\n",
    "    print (\"Odd\")\n"
   ]
  },
  {
   "cell_type": "code",
   "execution_count": 31,
   "metadata": {},
   "outputs": [
    {
     "name": "stdout",
     "output_type": "stream",
     "text": [
      "Enter Your Number25\n",
      "Odd\n"
     ]
    }
   ],
   "source": [
    "number = input(\"Enter Your Number\")\n",
    "a = int(number)%2\n",
    "if a == 0:\n",
    "    print (f\"{number} is Even\")\n",
    "else:\n",
    "    print (f\" {number} is Odd\")\n",
    "\n"
   ]
  },
  {
   "cell_type": "code",
   "execution_count": 32,
   "metadata": {},
   "outputs": [
    {
     "name": "stdout",
     "output_type": "stream",
     "text": [
      "Enter Your Number24\n",
      "24 is Even\n"
     ]
    }
   ],
   "source": [
    "number = input(\"Enter Your Number\")\n",
    "a = int(number)%2\n",
    "if a == 0:\n",
    "    print (f\"{number} is Even\")\n",
    "else:\n",
    "    print (f\" {number} is Odd\")\n",
    "\n"
   ]
  },
  {
   "cell_type": "code",
   "execution_count": 33,
   "metadata": {},
   "outputs": [
    {
     "name": "stdout",
     "output_type": "stream",
     "text": [
      "Enter Your Number25\n",
      " 25 is Odd\n"
     ]
    }
   ],
   "source": [
    "number = input(\"Enter Your Number\")\n",
    "a = int(number)%2\n",
    "if a == 0:\n",
    "    print (f\"{number} is Even\")\n",
    "else:\n",
    "    print (f\" {number} is Odd\")\n",
    "\n"
   ]
  },
  {
   "cell_type": "code",
   "execution_count": 35,
   "metadata": {},
   "outputs": [
    {
     "name": "stdout",
     "output_type": "stream",
     "text": [
      "Enter Your Number24\n",
      "24 is Even\n"
     ]
    }
   ],
   "source": [
    "number = int(input(\"Enter Your Number\"))\n",
    "if number%2 == 0:\n",
    "    print (f\"{number} is Even\")\n",
    "else:\n",
    "    print (f\" {number} is Odd\")\n",
    "\n"
   ]
  },
  {
   "cell_type": "code",
   "execution_count": null,
   "metadata": {},
   "outputs": [],
   "source": []
  }
 ],
 "metadata": {
  "kernelspec": {
   "display_name": "Python 3",
   "language": "python",
   "name": "python3"
  },
  "language_info": {
   "codemirror_mode": {
    "name": "ipython",
    "version": 3
   },
   "file_extension": ".py",
   "mimetype": "text/x-python",
   "name": "python",
   "nbconvert_exporter": "python",
   "pygments_lexer": "ipython3",
   "version": "3.7.3"
  }
 },
 "nbformat": 4,
 "nbformat_minor": 2
}
